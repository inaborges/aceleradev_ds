{
 "cells": [
  {
   "cell_type": "markdown",
   "metadata": {},
   "source": [
    "# Desafio 4\n",
    "\n",
    "Neste desafio, vamos praticar um pouco sobre testes de hipóteses. Utilizaremos o _data set_ [2016 Olympics in Rio de Janeiro](https://www.kaggle.com/rio2016/olympic-games/), que contém dados sobre os atletas das Olimpíadas de 2016 no Rio de Janeiro.\n",
    "\n",
    "Esse _data set_ conta com informações gerais sobre 11538 atletas como nome, nacionalidade, altura, peso e esporte praticado. Estaremos especialmente interessados nas variáveis numéricas altura (`height`) e peso (`weight`). As análises feitas aqui são parte de uma Análise Exploratória de Dados (EDA).\n",
    "\n",
    "> Obs.: Por favor, não modifique o nome das funções de resposta."
   ]
  },
  {
   "cell_type": "markdown",
   "metadata": {},
   "source": [
    "## _Setup_ geral"
   ]
  },
  {
   "cell_type": "code",
   "execution_count": 1,
   "metadata": {
    "scrolled": true
   },
   "outputs": [],
   "source": [
    "import pandas as pd\n",
    "import matplotlib.pyplot as plt\n",
    "import numpy as np\n",
    "import scipy.stats as sct\n",
    "import seaborn as sns"
   ]
  },
  {
   "cell_type": "code",
   "execution_count": 2,
   "metadata": {},
   "outputs": [],
   "source": [
    "# não esquecer de comentar essa linha antes de submeter o desafio\n",
    "# por alguma razão, costuma dar erro quando não comentamos.\n",
    "%matplotlib inline\n",
    "\n",
    "from IPython.core.pylabtools import figsize\n",
    "\n",
    "\n",
    "figsize(12, 8)\n",
    "\n",
    "sns.set()"
   ]
  },
  {
   "cell_type": "code",
   "execution_count": 3,
   "metadata": {},
   "outputs": [],
   "source": [
    "athletes = pd.read_csv(\"athletes.csv\")"
   ]
  },
  {
   "cell_type": "code",
   "execution_count": 4,
   "metadata": {},
   "outputs": [],
   "source": [
    "def get_sample(athletes, col_name, n=100, seed=42):\n",
    "    \"\"\"Get a sample from a column of a dataframe.\n",
    "    \n",
    "    It drops any numpy.nan entries before sampling. The sampling\n",
    "    is performed without replacement.\n",
    "    \n",
    "    Example of numpydoc for those who haven't seen yet.\n",
    "    \n",
    "    Parameters\n",
    "    ----------\n",
    "    df : pandas.DataFrame\n",
    "        Source dataframe.\n",
    "    col_name : str\n",
    "        Name of the column to be sampled.\n",
    "    n : int\n",
    "        Sample size. Default is 100.\n",
    "    seed : int\n",
    "        Random seed. Default is 42.\n",
    "    \n",
    "    Returns\n",
    "    -------\n",
    "    pandas.Series\n",
    "        Sample of size n from dataframe's column.\n",
    "    \"\"\"\n",
    "    np.random.seed(seed)\n",
    "    \n",
    "    random_idx = np.random.choice(athletes[col_name].dropna().index, size=n, replace=False)\n",
    "    \n",
    "    return athletes.loc[random_idx, col_name]\n",
    "\n"
   ]
  },
  {
   "cell_type": "markdown",
   "metadata": {},
   "source": [
    "## Inicia sua análise a partir daqui"
   ]
  },
  {
   "cell_type": "code",
   "execution_count": 5,
   "metadata": {},
   "outputs": [
    {
     "data": {
      "text/html": [
       "<div>\n",
       "<style scoped>\n",
       "    .dataframe tbody tr th:only-of-type {\n",
       "        vertical-align: middle;\n",
       "    }\n",
       "\n",
       "    .dataframe tbody tr th {\n",
       "        vertical-align: top;\n",
       "    }\n",
       "\n",
       "    .dataframe thead th {\n",
       "        text-align: right;\n",
       "    }\n",
       "</style>\n",
       "<table border=\"1\" class=\"dataframe\">\n",
       "  <thead>\n",
       "    <tr style=\"text-align: right;\">\n",
       "      <th></th>\n",
       "      <th>id</th>\n",
       "      <th>name</th>\n",
       "      <th>nationality</th>\n",
       "      <th>sex</th>\n",
       "      <th>dob</th>\n",
       "      <th>height</th>\n",
       "      <th>weight</th>\n",
       "      <th>sport</th>\n",
       "      <th>gold</th>\n",
       "      <th>silver</th>\n",
       "      <th>bronze</th>\n",
       "    </tr>\n",
       "  </thead>\n",
       "  <tbody>\n",
       "    <tr>\n",
       "      <th>0</th>\n",
       "      <td>736041664</td>\n",
       "      <td>A Jesus Garcia</td>\n",
       "      <td>ESP</td>\n",
       "      <td>male</td>\n",
       "      <td>10/17/69</td>\n",
       "      <td>1.72</td>\n",
       "      <td>64.0</td>\n",
       "      <td>athletics</td>\n",
       "      <td>0</td>\n",
       "      <td>0</td>\n",
       "      <td>0</td>\n",
       "    </tr>\n",
       "    <tr>\n",
       "      <th>1</th>\n",
       "      <td>532037425</td>\n",
       "      <td>A Lam Shin</td>\n",
       "      <td>KOR</td>\n",
       "      <td>female</td>\n",
       "      <td>9/23/86</td>\n",
       "      <td>1.68</td>\n",
       "      <td>56.0</td>\n",
       "      <td>fencing</td>\n",
       "      <td>0</td>\n",
       "      <td>0</td>\n",
       "      <td>0</td>\n",
       "    </tr>\n",
       "    <tr>\n",
       "      <th>2</th>\n",
       "      <td>435962603</td>\n",
       "      <td>Aaron Brown</td>\n",
       "      <td>CAN</td>\n",
       "      <td>male</td>\n",
       "      <td>5/27/92</td>\n",
       "      <td>1.98</td>\n",
       "      <td>79.0</td>\n",
       "      <td>athletics</td>\n",
       "      <td>0</td>\n",
       "      <td>0</td>\n",
       "      <td>1</td>\n",
       "    </tr>\n",
       "    <tr>\n",
       "      <th>3</th>\n",
       "      <td>521041435</td>\n",
       "      <td>Aaron Cook</td>\n",
       "      <td>MDA</td>\n",
       "      <td>male</td>\n",
       "      <td>1/2/91</td>\n",
       "      <td>1.83</td>\n",
       "      <td>80.0</td>\n",
       "      <td>taekwondo</td>\n",
       "      <td>0</td>\n",
       "      <td>0</td>\n",
       "      <td>0</td>\n",
       "    </tr>\n",
       "    <tr>\n",
       "      <th>4</th>\n",
       "      <td>33922579</td>\n",
       "      <td>Aaron Gate</td>\n",
       "      <td>NZL</td>\n",
       "      <td>male</td>\n",
       "      <td>11/26/90</td>\n",
       "      <td>1.81</td>\n",
       "      <td>71.0</td>\n",
       "      <td>cycling</td>\n",
       "      <td>0</td>\n",
       "      <td>0</td>\n",
       "      <td>0</td>\n",
       "    </tr>\n",
       "    <tr>\n",
       "      <th>5</th>\n",
       "      <td>173071782</td>\n",
       "      <td>Aaron Royle</td>\n",
       "      <td>AUS</td>\n",
       "      <td>male</td>\n",
       "      <td>1/26/90</td>\n",
       "      <td>1.80</td>\n",
       "      <td>67.0</td>\n",
       "      <td>triathlon</td>\n",
       "      <td>0</td>\n",
       "      <td>0</td>\n",
       "      <td>0</td>\n",
       "    </tr>\n",
       "    <tr>\n",
       "      <th>6</th>\n",
       "      <td>266237702</td>\n",
       "      <td>Aaron Russell</td>\n",
       "      <td>USA</td>\n",
       "      <td>male</td>\n",
       "      <td>6/4/93</td>\n",
       "      <td>2.05</td>\n",
       "      <td>98.0</td>\n",
       "      <td>volleyball</td>\n",
       "      <td>0</td>\n",
       "      <td>0</td>\n",
       "      <td>1</td>\n",
       "    </tr>\n",
       "    <tr>\n",
       "      <th>7</th>\n",
       "      <td>382571888</td>\n",
       "      <td>Aaron Younger</td>\n",
       "      <td>AUS</td>\n",
       "      <td>male</td>\n",
       "      <td>9/25/91</td>\n",
       "      <td>1.93</td>\n",
       "      <td>100.0</td>\n",
       "      <td>aquatics</td>\n",
       "      <td>0</td>\n",
       "      <td>0</td>\n",
       "      <td>0</td>\n",
       "    </tr>\n",
       "    <tr>\n",
       "      <th>8</th>\n",
       "      <td>87689776</td>\n",
       "      <td>Aauri Lorena Bokesa</td>\n",
       "      <td>ESP</td>\n",
       "      <td>female</td>\n",
       "      <td>12/14/88</td>\n",
       "      <td>1.80</td>\n",
       "      <td>62.0</td>\n",
       "      <td>athletics</td>\n",
       "      <td>0</td>\n",
       "      <td>0</td>\n",
       "      <td>0</td>\n",
       "    </tr>\n",
       "    <tr>\n",
       "      <th>9</th>\n",
       "      <td>997877719</td>\n",
       "      <td>Ababel Yeshaneh</td>\n",
       "      <td>ETH</td>\n",
       "      <td>female</td>\n",
       "      <td>7/22/91</td>\n",
       "      <td>1.65</td>\n",
       "      <td>54.0</td>\n",
       "      <td>athletics</td>\n",
       "      <td>0</td>\n",
       "      <td>0</td>\n",
       "      <td>0</td>\n",
       "    </tr>\n",
       "  </tbody>\n",
       "</table>\n",
       "</div>"
      ],
      "text/plain": [
       "          id                 name nationality     sex       dob  height  \\\n",
       "0  736041664       A Jesus Garcia         ESP    male  10/17/69    1.72   \n",
       "1  532037425           A Lam Shin         KOR  female   9/23/86    1.68   \n",
       "2  435962603          Aaron Brown         CAN    male   5/27/92    1.98   \n",
       "3  521041435           Aaron Cook         MDA    male    1/2/91    1.83   \n",
       "4   33922579           Aaron Gate         NZL    male  11/26/90    1.81   \n",
       "5  173071782          Aaron Royle         AUS    male   1/26/90    1.80   \n",
       "6  266237702        Aaron Russell         USA    male    6/4/93    2.05   \n",
       "7  382571888        Aaron Younger         AUS    male   9/25/91    1.93   \n",
       "8   87689776  Aauri Lorena Bokesa         ESP  female  12/14/88    1.80   \n",
       "9  997877719      Ababel Yeshaneh         ETH  female   7/22/91    1.65   \n",
       "\n",
       "   weight       sport  gold  silver  bronze  \n",
       "0    64.0   athletics     0       0       0  \n",
       "1    56.0     fencing     0       0       0  \n",
       "2    79.0   athletics     0       0       1  \n",
       "3    80.0   taekwondo     0       0       0  \n",
       "4    71.0     cycling     0       0       0  \n",
       "5    67.0   triathlon     0       0       0  \n",
       "6    98.0  volleyball     0       0       1  \n",
       "7   100.0    aquatics     0       0       0  \n",
       "8    62.0   athletics     0       0       0  \n",
       "9    54.0   athletics     0       0       0  "
      ]
     },
     "execution_count": 5,
     "metadata": {},
     "output_type": "execute_result"
    }
   ],
   "source": [
    "# Sua análise começa aqui.\n",
    "from scipy import stats\n",
    "\n",
    "athletes.head(10)"
   ]
  },
  {
   "cell_type": "code",
   "execution_count": 6,
   "metadata": {},
   "outputs": [
    {
     "name": "stdout",
     "output_type": "stream",
     "text": [
      "----------Top-5- Record----------\n",
      "          id            name nationality     sex       dob  height  weight  \\\n",
      "0  736041664  A Jesus Garcia         ESP    male  10/17/69    1.72    64.0   \n",
      "1  532037425      A Lam Shin         KOR  female   9/23/86    1.68    56.0   \n",
      "2  435962603     Aaron Brown         CAN    male   5/27/92    1.98    79.0   \n",
      "3  521041435      Aaron Cook         MDA    male    1/2/91    1.83    80.0   \n",
      "4   33922579      Aaron Gate         NZL    male  11/26/90    1.81    71.0   \n",
      "\n",
      "       sport  gold  silver  bronze  \n",
      "0  athletics     0       0       0  \n",
      "1    fencing     0       0       0  \n",
      "2  athletics     0       0       1  \n",
      "3  taekwondo     0       0       0  \n",
      "4    cycling     0       0       0  \n",
      "-----------Information-----------\n",
      "<class 'pandas.core.frame.DataFrame'>\n",
      "RangeIndex: 11538 entries, 0 to 11537\n",
      "Data columns (total 11 columns):\n",
      " #   Column       Non-Null Count  Dtype  \n",
      "---  ------       --------------  -----  \n",
      " 0   id           11538 non-null  int64  \n",
      " 1   name         11538 non-null  object \n",
      " 2   nationality  11538 non-null  object \n",
      " 3   sex          11538 non-null  object \n",
      " 4   dob          11537 non-null  object \n",
      " 5   height       11208 non-null  float64\n",
      " 6   weight       10879 non-null  float64\n",
      " 7   sport        11538 non-null  object \n",
      " 8   gold         11538 non-null  int64  \n",
      " 9   silver       11538 non-null  int64  \n",
      " 10  bronze       11538 non-null  int64  \n",
      "dtypes: float64(2), int64(4), object(5)\n",
      "memory usage: 991.7+ KB\n",
      "None\n",
      "-----------Data Types-----------\n",
      "id               int64\n",
      "name            object\n",
      "nationality     object\n",
      "sex             object\n",
      "dob             object\n",
      "height         float64\n",
      "weight         float64\n",
      "sport           object\n",
      "gold             int64\n",
      "silver           int64\n",
      "bronze           int64\n",
      "dtype: object\n",
      "----------Missing value-----------\n",
      "id               0\n",
      "name             0\n",
      "nationality      0\n",
      "sex              0\n",
      "dob              1\n",
      "height         330\n",
      "weight         659\n",
      "sport            0\n",
      "gold             0\n",
      "silver           0\n",
      "bronze           0\n",
      "dtype: int64\n",
      "----------Null value-----------\n",
      "id               0\n",
      "name             0\n",
      "nationality      0\n",
      "sex              0\n",
      "dob              1\n",
      "height         330\n",
      "weight         659\n",
      "sport            0\n",
      "gold             0\n",
      "silver           0\n",
      "bronze           0\n",
      "dtype: int64\n",
      "----------Shape of Data----------\n",
      "(11538, 11)\n"
     ]
    }
   ],
   "source": [
    "print(\"----------Top-5- Record----------\")\n",
    "print(athletes.head(5))\n",
    "print(\"-----------Information-----------\")\n",
    "print(athletes.info())\n",
    "print(\"-----------Data Types-----------\")\n",
    "print(athletes.dtypes)\n",
    "print(\"----------Missing value-----------\")\n",
    "print(athletes.isnull().sum())\n",
    "print(\"----------Null value-----------\")\n",
    "print(athletes.isna().sum())\n",
    "print(\"----------Shape of Data----------\")\n",
    "print(athletes.shape)"
   ]
  },
  {
   "cell_type": "code",
   "execution_count": 7,
   "metadata": {},
   "outputs": [],
   "source": [
    "alpha = 0.05"
   ]
  },
  {
   "cell_type": "code",
   "execution_count": 8,
   "metadata": {},
   "outputs": [],
   "source": [
    "altura = get_sample(athletes, \"height\", 3000)"
   ]
  },
  {
   "cell_type": "code",
   "execution_count": 9,
   "metadata": {},
   "outputs": [],
   "source": [
    "peso = get_sample(athletes, \"weight\", 3000)"
   ]
  },
  {
   "cell_type": "markdown",
   "metadata": {},
   "source": [
    "## Questão 1\n",
    "\n",
    "Considerando uma amostra de tamanho 3000 da coluna `height` obtida com a função `get_sample()`, execute o teste de normalidade de Shapiro-Wilk com a função `scipy.stats.shapiro()`. Podemos afirmar que as alturas são normalmente distribuídas com base nesse teste (ao nível de significância de 5%)? Responda com um boolean (`True` ou `False`)."
   ]
  },
  {
   "cell_type": "code",
   "execution_count": 10,
   "metadata": {},
   "outputs": [],
   "source": [
    "def q1():\n",
    "    shapiro_test = sct.shapiro(altura)\n",
    "    return bool(shapiro_test[1] >= alpha)"
   ]
  },
  {
   "cell_type": "markdown",
   "metadata": {},
   "source": [
    "__Para refletir__:\n",
    "\n",
    "* Plote o histograma dessa variável (com, por exemplo, `bins=25`). A forma do gráfico e o resultado do teste são condizentes? Por que?\n",
    "\n",
    "*Resposta: Não podemos dizer que são condizentes, pois a forma do gráfico representa uma distruibuição normal, já o teste apresentou o resultado false.*"
   ]
  },
  {
   "cell_type": "code",
   "execution_count": 11,
   "metadata": {},
   "outputs": [
    {
     "data": {
      "text/plain": [
       "<matplotlib.axes._subplots.AxesSubplot at 0x287d4e23f48>"
      ]
     },
     "execution_count": 11,
     "metadata": {},
     "output_type": "execute_result"
    },
    {
     "data": {
      "image/png": "[encoded data removed]",
      "text/plain": [
       "<Figure size 864x576 with 1 Axes>"
      ]
     },
     "metadata": {},
     "output_type": "display_data"
    }
   ],
   "source": [
    "sns.distplot(altura, bins=25, hist_kws={\"density\": True})"
   ]
  },
  {
   "cell_type": "markdown",
   "metadata": {},
   "source": [
    "* Plote o qq-plot para essa variável e a analise."
   ]
  },
  {
   "cell_type": "markdown",
   "metadata": {},
   "source": [
    "* Existe algum nível de significância razoável que nos dê outro resultado no teste? (Não faça isso na prática. Isso é chamado _p-value hacking_, e não é legal)."
   ]
  },
  {
   "cell_type": "markdown",
   "metadata": {},
   "source": [
    "## Questão 2\n",
    "\n",
    "Repita o mesmo procedimento acima, mas agora utilizando o teste de normalidade de Jarque-Bera através da função `scipy.stats.jarque_bera()`. Agora podemos afirmar que as alturas são normalmente distribuídas (ao nível de significância de 5%)? Responda com um boolean (`True` ou `False`)."
   ]
  },
  {
   "cell_type": "code",
   "execution_count": 12,
   "metadata": {},
   "outputs": [],
   "source": [
    "def q2():\n",
    "    jarque_bera = stats.jarque_bera(altura)\n",
    "    return bool(jarque_bera[1] > alpha)"
   ]
  },
  {
   "cell_type": "markdown",
   "metadata": {},
   "source": [
    "__Para refletir__:\n",
    "\n",
    "* Esse resultado faz sentido?"
   ]
  },
  {
   "cell_type": "markdown",
   "metadata": {},
   "source": [
    "## Questão 3\n",
    "\n",
    "Considerando agora uma amostra de tamanho 3000 da coluna `weight` obtida com a função `get_sample()`. Faça o teste de normalidade de D'Agostino-Pearson utilizando a função `scipy.stats.normaltest()`. Podemos afirmar que os pesos vêm de uma distribuição normal ao nível de significância de 5%? Responda com um boolean (`True` ou `False`)."
   ]
  },
  {
   "cell_type": "code",
   "execution_count": 13,
   "metadata": {},
   "outputs": [],
   "source": [
    "def q3():\n",
    "    normal_test, p_value = stats.normaltest(peso)\n",
    "    return bool(p_value >= alpha)"
   ]
  },
  {
   "cell_type": "markdown",
   "metadata": {},
   "source": [
    "__Para refletir__:\n",
    "\n",
    "* Plote o histograma dessa variável (com, por exemplo, `bins=25`). A forma do gráfico e o resultado do teste são condizentes? Por que?\n",
    "* Um _box plot_ também poderia ajudar a entender a resposta."
   ]
  },
  {
   "cell_type": "markdown",
   "metadata": {},
   "source": [
    "## Questão 4\n",
    "\n",
    "Realize uma transformação logarítmica em na amostra de `weight` da questão 3 e repita o mesmo procedimento. Podemos afirmar a normalidade da variável transformada ao nível de significância de 5%? Responda com um boolean (`True` ou `False`)."
   ]
  },
  {
   "cell_type": "code",
   "execution_count": 14,
   "metadata": {},
   "outputs": [],
   "source": [
    "def q4():\n",
    "    peso_log = np.log(peso)\n",
    "    normal_test, p_value = stats.normaltest(peso_log)\n",
    "    return bool(p_value >= alpha)"
   ]
  },
  {
   "cell_type": "markdown",
   "metadata": {},
   "source": [
    "__Para refletir__:\n",
    "\n",
    "* Plote o histograma dessa variável (com, por exemplo, `bins=25`). A forma do gráfico e o resultado do teste são condizentes? Por que?\n",
    "* Você esperava um resultado diferente agora?"
   ]
  },
  {
   "cell_type": "markdown",
   "metadata": {},
   "source": [
    "> __Para as questão 5 6 e 7 a seguir considere todos testes efetuados ao nível de significância de 5%__."
   ]
  },
  {
   "cell_type": "markdown",
   "metadata": {},
   "source": [
    "## Questão 5\n",
    "\n",
    "Obtenha todos atletas brasileiros, norte-americanos e canadenses em `DataFrame`s chamados `bra`, `usa` e `can`,respectivamente. Realize um teste de hipóteses para comparação das médias das alturas (`height`) para amostras independentes e variâncias diferentes com a função `scipy.stats.ttest_ind()` entre `bra` e `usa`. Podemos afirmar que as médias são estatisticamente iguais? Responda com um boolean (`True` ou `False`)."
   ]
  },
  {
   "cell_type": "code",
   "execution_count": 15,
   "metadata": {},
   "outputs": [],
   "source": [
    "bra = athletes.query('nationality == \"BRA\"')\n",
    "usa = athletes.query('nationality == \"USA\"')\n",
    "can = athletes.query('nationality == \"CAN\"')"
   ]
  },
  {
   "cell_type": "code",
   "execution_count": 16,
   "metadata": {},
   "outputs": [],
   "source": [
    "def q5():\n",
    "    estatistic, p_value = sct.ttest_ind(bra.height, usa.height, equal_var = False, nan_policy = \"omit\")\n",
    "    return np.bool(p_value >= alpha)"
   ]
  },
  {
   "cell_type": "markdown",
   "metadata": {},
   "source": [
    "## Questão 6\n",
    "\n",
    "Repita o procedimento da questão 5, mas agora entre as alturas de `bra` e `can`. Podemos afimar agora que as médias são estatisticamente iguais? Reponda com um boolean (`True` ou `False`)."
   ]
  },
  {
   "cell_type": "code",
   "execution_count": 17,
   "metadata": {},
   "outputs": [],
   "source": [
    "def q6():\n",
    "    estatistic, p_value = sct.ttest_ind(bra.height, can.height, equal_var = False, nan_policy = \"omit\")\n",
    "    return np.bool(p_value >= alpha)"
   ]
  },
  {
   "cell_type": "markdown",
   "metadata": {},
   "source": [
    "## Questão 7\n",
    "\n",
    "Repita o procedimento da questão 6, mas agora entre as alturas de `usa` e `can`. Qual o valor do p-valor retornado? Responda como um único escalar arredondado para oito casas decimais."
   ]
  },
  {
   "cell_type": "code",
   "execution_count": 18,
   "metadata": {},
   "outputs": [],
   "source": [
    "def q7():\n",
    "    estatistic, p_value = sct.ttest_ind(usa.height, can.height, equal_var = False, nan_policy = \"omit\")\n",
    "    return np.float(np.round(p_value, 8))"
   ]
  },
  {
   "cell_type": "markdown",
   "metadata": {},
   "source": [
    "__Para refletir__:\n",
    "\n",
    "* O resultado faz sentido?\n",
    "* Você consegue interpretar esse p-valor?\n",
    "* Você consegue chegar a esse valor de p-valor a partir da variável de estatística?"
   ]
  }
 ],
 "metadata": {
  "kernelspec": {
   "display_name": "Python 3",
   "language": "python",
   "name": "python3"
  },
  "language_info": {
   "codemirror_mode": {
    "name": "ipython",
    "version": 3
   },
   "file_extension": ".py",
   "mimetype": "text/x-python",
   "name": "python",
   "nbconvert_exporter": "python",
   "pygments_lexer": "ipython3",
   "version": "3.7.6"
  }
 },
 "nbformat": 4,
 "nbformat_minor": 2
}
