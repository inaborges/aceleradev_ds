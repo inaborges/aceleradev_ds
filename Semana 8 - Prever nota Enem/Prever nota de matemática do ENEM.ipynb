{
 "cells": [
  {
   "cell_type": "markdown",
   "metadata": {},
   "source": [
    "# Prever nota de matemática do ENEM"
   ]
  },
  {
   "cell_type": "markdown",
   "metadata": {},
   "source": [
    "**Importando as bibliotecas**"
   ]
  },
  {
   "cell_type": "code",
   "execution_count": 39,
   "metadata": {},
   "outputs": [],
   "source": [
    "import pandas as pd\n",
    "import numpy as np\n",
    "import matplotlib.pyplot as plt\n",
    "import seaborn as sns\n",
    "from sklearn.model_selection import train_test_split\n",
    "from sklearn.ensemble import RandomForestRegressor\n",
    "from sklearn import metrics\n",
    "from sklearn.metrics import mean_squared_error, mean_absolute_error, r2_score"
   ]
  },
  {
   "cell_type": "markdown",
   "metadata": {},
   "source": [
    "**Carregando os datasets**"
   ]
  },
  {
   "cell_type": "code",
   "execution_count": 3,
   "metadata": {},
   "outputs": [],
   "source": [
    "train = pd.read_csv('train.csv')"
   ]
  },
  {
   "cell_type": "code",
   "execution_count": 4,
   "metadata": {},
   "outputs": [],
   "source": [
    "test = pd.read_csv('test.csv')"
   ]
  },
  {
   "cell_type": "markdown",
   "metadata": {},
   "source": [
    "**Alguns dados sobre os datasets**"
   ]
  },
  {
   "cell_type": "markdown",
   "metadata": {},
   "source": [
    "Primeiro: train.csv"
   ]
  },
  {
   "cell_type": "code",
   "execution_count": 5,
   "metadata": {
    "scrolled": true
   },
   "outputs": [
    {
     "name": "stdout",
     "output_type": "stream",
     "text": [
      "--------------Columns------------\n",
      "Index(['Unnamed: 0', 'NU_INSCRICAO', 'NU_ANO', 'CO_MUNICIPIO_RESIDENCIA',\n",
      "       'NO_MUNICIPIO_RESIDENCIA', 'CO_UF_RESIDENCIA', 'SG_UF_RESIDENCIA',\n",
      "       'NU_IDADE', 'TP_SEXO', 'TP_ESTADO_CIVIL',\n",
      "       ...\n",
      "       'Q041', 'Q042', 'Q043', 'Q044', 'Q045', 'Q046', 'Q047', 'Q048', 'Q049',\n",
      "       'Q050'],\n",
      "      dtype='object', length=167)\n",
      "----------Top-5- Record----------\n",
      "   Unnamed: 0                              NU_INSCRICAO  NU_ANO  \\\n",
      "0           1  ed50e8aaa58e7a806c337585efee9ca41f1eb1ad    2016   \n",
      "1           2  2c3acac4b33ec2b195d77e7c04a2d75727fad723    2016   \n",
      "2           3  f4545f8ccb9ff5c8aad7d32951b3f251a26e6568    2016   \n",
      "3           4  3d6ec248fef899c414e77f82d5c6d2bffbeaf7fe    2016   \n",
      "4           5  bf896ac8d3ecadd6dba1dfbf50110afcbf5d3268    2016   \n",
      "\n",
      "   CO_MUNICIPIO_RESIDENCIA NO_MUNICIPIO_RESIDENCIA  CO_UF_RESIDENCIA  \\\n",
      "0                  4314902            Porto Alegre                43   \n",
      "1                  2304707                  Granja                23   \n",
      "2                  2304400               Fortaleza                23   \n",
      "3                  3304557          Rio de Janeiro                33   \n",
      "4                  1302603                  Manaus                13   \n",
      "\n",
      "  SG_UF_RESIDENCIA  NU_IDADE TP_SEXO  TP_ESTADO_CIVIL  ...  Q041  Q042  Q043  \\\n",
      "0               RS        24       M              0.0  ...   5.0     A     A   \n",
      "1               CE        17       F              0.0  ...   NaN     A     A   \n",
      "2               CE        21       F              0.0  ...   NaN     A     A   \n",
      "3               RJ        25       F              0.0  ...   5.0     C     A   \n",
      "4               AM        28       M              0.0  ...   NaN     A     A   \n",
      "\n",
      "  Q044  Q045 Q046  Q047  Q048  Q049  Q050  \n",
      "0    A     A    A     A     A     B     D  \n",
      "1    C     A    B     A     A     C     A  \n",
      "2    A     A    C     A     A     B     A  \n",
      "3    A     A    A     D     A     A     A  \n",
      "4    A     A    A     A     A     A     A  \n",
      "\n",
      "[5 rows x 167 columns]\n",
      "-----------Information-----------\n",
      "<class 'pandas.core.frame.DataFrame'>\n",
      "RangeIndex: 13730 entries, 0 to 13729\n",
      "Columns: 167 entries, Unnamed: 0 to Q050\n",
      "dtypes: float64(28), int64(79), object(60)\n",
      "memory usage: 17.5+ MB\n",
      "None\n",
      "-----------Data Types-----------\n",
      "Unnamed: 0                  int64\n",
      "NU_INSCRICAO               object\n",
      "NU_ANO                      int64\n",
      "CO_MUNICIPIO_RESIDENCIA     int64\n",
      "NO_MUNICIPIO_RESIDENCIA    object\n",
      "                            ...  \n",
      "Q046                       object\n",
      "Q047                       object\n",
      "Q048                       object\n",
      "Q049                       object\n",
      "Q050                       object\n",
      "Length: 167, dtype: object\n",
      "----------Missing value-----------\n",
      "Unnamed: 0                 0\n",
      "NU_INSCRICAO               0\n",
      "NU_ANO                     0\n",
      "CO_MUNICIPIO_RESIDENCIA    0\n",
      "NO_MUNICIPIO_RESIDENCIA    0\n",
      "                          ..\n",
      "Q046                       0\n",
      "Q047                       0\n",
      "Q048                       0\n",
      "Q049                       0\n",
      "Q050                       0\n",
      "Length: 167, dtype: int64\n",
      "----------Null value-----------\n",
      "Unnamed: 0                 0\n",
      "NU_INSCRICAO               0\n",
      "NU_ANO                     0\n",
      "CO_MUNICIPIO_RESIDENCIA    0\n",
      "NO_MUNICIPIO_RESIDENCIA    0\n",
      "                          ..\n",
      "Q046                       0\n",
      "Q047                       0\n",
      "Q048                       0\n",
      "Q049                       0\n",
      "Q050                       0\n",
      "Length: 167, dtype: int64\n",
      "----------Shape of Data----------\n",
      "(13730, 167)\n"
     ]
    }
   ],
   "source": [
    "print(\"--------------Columns------------\")\n",
    "print(train.columns)\n",
    "print(\"----------Top-5- Record----------\")\n",
    "print(train.head(5))\n",
    "print(\"-----------Information-----------\")\n",
    "print(train.info())\n",
    "print(\"-----------Data Types-----------\")\n",
    "print(train.dtypes)\n",
    "print(\"----------Missing value-----------\")\n",
    "print(train.isnull().sum())\n",
    "print(\"----------Null value-----------\")\n",
    "print(train.isna().sum())\n",
    "print(\"----------Shape of Data----------\")\n",
    "print(train.shape)"
   ]
  },
  {
   "cell_type": "markdown",
   "metadata": {},
   "source": [
    "Agora test.csv"
   ]
  },
  {
   "cell_type": "code",
   "execution_count": 6,
   "metadata": {},
   "outputs": [
    {
     "name": "stdout",
     "output_type": "stream",
     "text": [
      "--------------Columns------------\n",
      "Index(['NU_INSCRICAO', 'CO_UF_RESIDENCIA', 'SG_UF_RESIDENCIA', 'NU_IDADE',\n",
      "       'TP_SEXO', 'TP_COR_RACA', 'TP_NACIONALIDADE', 'TP_ST_CONCLUSAO',\n",
      "       'TP_ANO_CONCLUIU', 'TP_ESCOLA', 'TP_ENSINO', 'IN_TREINEIRO',\n",
      "       'TP_DEPENDENCIA_ADM_ESC', 'IN_BAIXA_VISAO', 'IN_CEGUEIRA', 'IN_SURDEZ',\n",
      "       'IN_DISLEXIA', 'IN_DISCALCULIA', 'IN_SABATISTA', 'IN_GESTANTE',\n",
      "       'IN_IDOSO', 'TP_PRESENCA_CN', 'TP_PRESENCA_CH', 'TP_PRESENCA_LC',\n",
      "       'CO_PROVA_CN', 'CO_PROVA_CH', 'CO_PROVA_LC', 'CO_PROVA_MT',\n",
      "       'NU_NOTA_CN', 'NU_NOTA_CH', 'NU_NOTA_LC', 'TP_LINGUA',\n",
      "       'TP_STATUS_REDACAO', 'NU_NOTA_COMP1', 'NU_NOTA_COMP2', 'NU_NOTA_COMP3',\n",
      "       'NU_NOTA_COMP4', 'NU_NOTA_COMP5', 'NU_NOTA_REDACAO', 'Q001', 'Q002',\n",
      "       'Q006', 'Q024', 'Q025', 'Q026', 'Q027', 'Q047'],\n",
      "      dtype='object')\n",
      "----------Top-5- Record----------\n",
      "                               NU_INSCRICAO  CO_UF_RESIDENCIA  \\\n",
      "0  73ff9fcc02f0a99919906c942c2e1a1042cdcf98                41   \n",
      "1  71a95f9f1b91a82c65ad94abbdf9f54e6066f968                21   \n",
      "2  b38a03232f43b11c9d0788abaf060f7366053b6d                23   \n",
      "3  70b682d9a3636be23f6120fa9d6b164eb3c6002d                15   \n",
      "4  715494628a50142ce8cb17191cfe6d0f3cae0934                41   \n",
      "\n",
      "  SG_UF_RESIDENCIA  NU_IDADE TP_SEXO  TP_COR_RACA  TP_NACIONALIDADE  \\\n",
      "0               PR        22       F            3                 1   \n",
      "1               MA        26       F            3                 1   \n",
      "2               CE        21       M            1                 1   \n",
      "3               PA        27       F            3                 1   \n",
      "4               PR        18       M            1                 1   \n",
      "\n",
      "   TP_ST_CONCLUSAO  TP_ANO_CONCLUIU  TP_ESCOLA  ...  NU_NOTA_COMP5  \\\n",
      "0                1                5          1  ...           40.0   \n",
      "1                1                8          1  ...          100.0   \n",
      "2                2                0          2  ...           80.0   \n",
      "3                1                8          1  ...            NaN   \n",
      "4                2                0          2  ...            0.0   \n",
      "\n",
      "   NU_NOTA_REDACAO  Q001  Q002  Q006  Q024  Q025  Q026  Q027  Q047  \n",
      "0            420.0     B     A     C     A     A     C     C     A  \n",
      "1            580.0     E     B     C     B     B     B     F     A  \n",
      "2            320.0     E     E     D     B     B     A   NaN     A  \n",
      "3              NaN     H     E     G     B     B     A   NaN     A  \n",
      "4            320.0     D     H     H     C     B     A   NaN     A  \n",
      "\n",
      "[5 rows x 47 columns]\n",
      "-----------Information-----------\n",
      "<class 'pandas.core.frame.DataFrame'>\n",
      "RangeIndex: 4576 entries, 0 to 4575\n",
      "Data columns (total 47 columns):\n",
      " #   Column                  Non-Null Count  Dtype  \n",
      "---  ------                  --------------  -----  \n",
      " 0   NU_INSCRICAO            4576 non-null   object \n",
      " 1   CO_UF_RESIDENCIA        4576 non-null   int64  \n",
      " 2   SG_UF_RESIDENCIA        4576 non-null   object \n",
      " 3   NU_IDADE                4576 non-null   int64  \n",
      " 4   TP_SEXO                 4576 non-null   object \n",
      " 5   TP_COR_RACA             4576 non-null   int64  \n",
      " 6   TP_NACIONALIDADE        4576 non-null   int64  \n",
      " 7   TP_ST_CONCLUSAO         4576 non-null   int64  \n",
      " 8   TP_ANO_CONCLUIU         4576 non-null   int64  \n",
      " 9   TP_ESCOLA               4576 non-null   int64  \n",
      " 10  TP_ENSINO               1480 non-null   float64\n",
      " 11  IN_TREINEIRO            4576 non-null   int64  \n",
      " 12  TP_DEPENDENCIA_ADM_ESC  1480 non-null   float64\n",
      " 13  IN_BAIXA_VISAO          4576 non-null   int64  \n",
      " 14  IN_CEGUEIRA             4576 non-null   int64  \n",
      " 15  IN_SURDEZ               4576 non-null   int64  \n",
      " 16  IN_DISLEXIA             4576 non-null   int64  \n",
      " 17  IN_DISCALCULIA          4576 non-null   int64  \n",
      " 18  IN_SABATISTA            4576 non-null   int64  \n",
      " 19  IN_GESTANTE             4576 non-null   int64  \n",
      " 20  IN_IDOSO                4576 non-null   int64  \n",
      " 21  TP_PRESENCA_CN          4576 non-null   int64  \n",
      " 22  TP_PRESENCA_CH          4576 non-null   int64  \n",
      " 23  TP_PRESENCA_LC          4576 non-null   int64  \n",
      " 24  CO_PROVA_CN             4576 non-null   object \n",
      " 25  CO_PROVA_CH             4576 non-null   object \n",
      " 26  CO_PROVA_LC             4576 non-null   object \n",
      " 27  CO_PROVA_MT             4576 non-null   object \n",
      " 28  NU_NOTA_CN              3442 non-null   float64\n",
      " 29  NU_NOTA_CH              3442 non-null   float64\n",
      " 30  NU_NOTA_LC              3377 non-null   float64\n",
      " 31  TP_LINGUA               4576 non-null   int64  \n",
      " 32  TP_STATUS_REDACAO       3377 non-null   float64\n",
      " 33  NU_NOTA_COMP1           3377 non-null   float64\n",
      " 34  NU_NOTA_COMP2           3377 non-null   float64\n",
      " 35  NU_NOTA_COMP3           3377 non-null   float64\n",
      " 36  NU_NOTA_COMP4           3377 non-null   float64\n",
      " 37  NU_NOTA_COMP5           3377 non-null   float64\n",
      " 38  NU_NOTA_REDACAO         3377 non-null   float64\n",
      " 39  Q001                    4576 non-null   object \n",
      " 40  Q002                    4576 non-null   object \n",
      " 41  Q006                    4576 non-null   object \n",
      " 42  Q024                    4576 non-null   object \n",
      " 43  Q025                    4576 non-null   object \n",
      " 44  Q026                    4576 non-null   object \n",
      " 45  Q027                    2088 non-null   object \n",
      " 46  Q047                    4576 non-null   object \n",
      "dtypes: float64(12), int64(20), object(15)\n",
      "memory usage: 1.6+ MB\n",
      "None\n",
      "-----------Data Types-----------\n",
      "NU_INSCRICAO               object\n",
      "CO_UF_RESIDENCIA            int64\n",
      "SG_UF_RESIDENCIA           object\n",
      "NU_IDADE                    int64\n",
      "TP_SEXO                    object\n",
      "TP_COR_RACA                 int64\n",
      "TP_NACIONALIDADE            int64\n",
      "TP_ST_CONCLUSAO             int64\n",
      "TP_ANO_CONCLUIU             int64\n",
      "TP_ESCOLA                   int64\n",
      "TP_ENSINO                 float64\n",
      "IN_TREINEIRO                int64\n",
      "TP_DEPENDENCIA_ADM_ESC    float64\n",
      "IN_BAIXA_VISAO              int64\n",
      "IN_CEGUEIRA                 int64\n",
      "IN_SURDEZ                   int64\n",
      "IN_DISLEXIA                 int64\n",
      "IN_DISCALCULIA              int64\n",
      "IN_SABATISTA                int64\n",
      "IN_GESTANTE                 int64\n",
      "IN_IDOSO                    int64\n",
      "TP_PRESENCA_CN              int64\n",
      "TP_PRESENCA_CH              int64\n",
      "TP_PRESENCA_LC              int64\n",
      "CO_PROVA_CN                object\n",
      "CO_PROVA_CH                object\n",
      "CO_PROVA_LC                object\n",
      "CO_PROVA_MT                object\n",
      "NU_NOTA_CN                float64\n",
      "NU_NOTA_CH                float64\n",
      "NU_NOTA_LC                float64\n",
      "TP_LINGUA                   int64\n",
      "TP_STATUS_REDACAO         float64\n",
      "NU_NOTA_COMP1             float64\n",
      "NU_NOTA_COMP2             float64\n",
      "NU_NOTA_COMP3             float64\n",
      "NU_NOTA_COMP4             float64\n",
      "NU_NOTA_COMP5             float64\n",
      "NU_NOTA_REDACAO           float64\n",
      "Q001                       object\n",
      "Q002                       object\n",
      "Q006                       object\n",
      "Q024                       object\n",
      "Q025                       object\n",
      "Q026                       object\n",
      "Q027                       object\n",
      "Q047                       object\n",
      "dtype: object\n",
      "----------Missing value-----------\n",
      "NU_INSCRICAO                 0\n",
      "CO_UF_RESIDENCIA             0\n",
      "SG_UF_RESIDENCIA             0\n",
      "NU_IDADE                     0\n",
      "TP_SEXO                      0\n",
      "TP_COR_RACA                  0\n",
      "TP_NACIONALIDADE             0\n",
      "TP_ST_CONCLUSAO              0\n",
      "TP_ANO_CONCLUIU              0\n",
      "TP_ESCOLA                    0\n",
      "TP_ENSINO                 3096\n",
      "IN_TREINEIRO                 0\n",
      "TP_DEPENDENCIA_ADM_ESC    3096\n",
      "IN_BAIXA_VISAO               0\n",
      "IN_CEGUEIRA                  0\n",
      "IN_SURDEZ                    0\n",
      "IN_DISLEXIA                  0\n",
      "IN_DISCALCULIA               0\n",
      "IN_SABATISTA                 0\n",
      "IN_GESTANTE                  0\n",
      "IN_IDOSO                     0\n",
      "TP_PRESENCA_CN               0\n",
      "TP_PRESENCA_CH               0\n",
      "TP_PRESENCA_LC               0\n",
      "CO_PROVA_CN                  0\n",
      "CO_PROVA_CH                  0\n",
      "CO_PROVA_LC                  0\n",
      "CO_PROVA_MT                  0\n",
      "NU_NOTA_CN                1134\n",
      "NU_NOTA_CH                1134\n",
      "NU_NOTA_LC                1199\n",
      "TP_LINGUA                    0\n",
      "TP_STATUS_REDACAO         1199\n",
      "NU_NOTA_COMP1             1199\n",
      "NU_NOTA_COMP2             1199\n",
      "NU_NOTA_COMP3             1199\n",
      "NU_NOTA_COMP4             1199\n",
      "NU_NOTA_COMP5             1199\n",
      "NU_NOTA_REDACAO           1199\n",
      "Q001                         0\n",
      "Q002                         0\n",
      "Q006                         0\n",
      "Q024                         0\n",
      "Q025                         0\n",
      "Q026                         0\n",
      "Q027                      2488\n",
      "Q047                         0\n",
      "dtype: int64\n",
      "----------Null value-----------\n",
      "NU_INSCRICAO                 0\n",
      "CO_UF_RESIDENCIA             0\n",
      "SG_UF_RESIDENCIA             0\n",
      "NU_IDADE                     0\n",
      "TP_SEXO                      0\n",
      "TP_COR_RACA                  0\n",
      "TP_NACIONALIDADE             0\n",
      "TP_ST_CONCLUSAO              0\n",
      "TP_ANO_CONCLUIU              0\n",
      "TP_ESCOLA                    0\n",
      "TP_ENSINO                 3096\n",
      "IN_TREINEIRO                 0\n",
      "TP_DEPENDENCIA_ADM_ESC    3096\n",
      "IN_BAIXA_VISAO               0\n",
      "IN_CEGUEIRA                  0\n",
      "IN_SURDEZ                    0\n",
      "IN_DISLEXIA                  0\n",
      "IN_DISCALCULIA               0\n",
      "IN_SABATISTA                 0\n",
      "IN_GESTANTE                  0\n",
      "IN_IDOSO                     0\n",
      "TP_PRESENCA_CN               0\n",
      "TP_PRESENCA_CH               0\n",
      "TP_PRESENCA_LC               0\n",
      "CO_PROVA_CN                  0\n",
      "CO_PROVA_CH                  0\n",
      "CO_PROVA_LC                  0\n",
      "CO_PROVA_MT                  0\n",
      "NU_NOTA_CN                1134\n",
      "NU_NOTA_CH                1134\n",
      "NU_NOTA_LC                1199\n",
      "TP_LINGUA                    0\n",
      "TP_STATUS_REDACAO         1199\n",
      "NU_NOTA_COMP1             1199\n",
      "NU_NOTA_COMP2             1199\n",
      "NU_NOTA_COMP3             1199\n",
      "NU_NOTA_COMP4             1199\n",
      "NU_NOTA_COMP5             1199\n",
      "NU_NOTA_REDACAO           1199\n",
      "Q001                         0\n",
      "Q002                         0\n",
      "Q006                         0\n",
      "Q024                         0\n",
      "Q025                         0\n",
      "Q026                         0\n",
      "Q027                      2488\n",
      "Q047                         0\n",
      "dtype: int64\n",
      "----------Shape of Data----------\n",
      "(4576, 47)\n"
     ]
    }
   ],
   "source": [
    "print(\"--------------Columns------------\")\n",
    "print(test.columns)\n",
    "print(\"----------Top-5- Record----------\")\n",
    "print(test.head(5))\n",
    "print(\"-----------Information-----------\")\n",
    "print(test.info())\n",
    "print(\"-----------Data Types-----------\")\n",
    "print(test.dtypes)\n",
    "print(\"----------Missing value-----------\")\n",
    "print(test.isnull().sum())\n",
    "print(\"----------Null value-----------\")\n",
    "print(test.isna().sum())\n",
    "print(\"----------Shape of Data----------\")\n",
    "print(test.shape)"
   ]
  },
  {
   "cell_type": "markdown",
   "metadata": {},
   "source": [
    "**Analisando os dtypes**"
   ]
  },
  {
   "cell_type": "code",
   "execution_count": 7,
   "metadata": {},
   "outputs": [
    {
     "data": {
      "text/plain": [
       "Unnamed: 0                  int64\n",
       "NU_INSCRICAO               object\n",
       "NU_ANO                      int64\n",
       "CO_MUNICIPIO_RESIDENCIA     int64\n",
       "NO_MUNICIPIO_RESIDENCIA    object\n",
       "                            ...  \n",
       "Q046                       object\n",
       "Q047                       object\n",
       "Q048                       object\n",
       "Q049                       object\n",
       "Q050                       object\n",
       "Length: 167, dtype: object"
      ]
     },
     "execution_count": 7,
     "metadata": {},
     "output_type": "execute_result"
    }
   ],
   "source": [
    "train.dtypes"
   ]
  },
  {
   "cell_type": "code",
   "execution_count": 8,
   "metadata": {},
   "outputs": [
    {
     "data": {
      "text/plain": [
       "NU_INSCRICAO               object\n",
       "CO_UF_RESIDENCIA            int64\n",
       "SG_UF_RESIDENCIA           object\n",
       "NU_IDADE                    int64\n",
       "TP_SEXO                    object\n",
       "TP_COR_RACA                 int64\n",
       "TP_NACIONALIDADE            int64\n",
       "TP_ST_CONCLUSAO             int64\n",
       "TP_ANO_CONCLUIU             int64\n",
       "TP_ESCOLA                   int64\n",
       "TP_ENSINO                 float64\n",
       "IN_TREINEIRO                int64\n",
       "TP_DEPENDENCIA_ADM_ESC    float64\n",
       "IN_BAIXA_VISAO              int64\n",
       "IN_CEGUEIRA                 int64\n",
       "IN_SURDEZ                   int64\n",
       "IN_DISLEXIA                 int64\n",
       "IN_DISCALCULIA              int64\n",
       "IN_SABATISTA                int64\n",
       "IN_GESTANTE                 int64\n",
       "IN_IDOSO                    int64\n",
       "TP_PRESENCA_CN              int64\n",
       "TP_PRESENCA_CH              int64\n",
       "TP_PRESENCA_LC              int64\n",
       "CO_PROVA_CN                object\n",
       "CO_PROVA_CH                object\n",
       "CO_PROVA_LC                object\n",
       "CO_PROVA_MT                object\n",
       "NU_NOTA_CN                float64\n",
       "NU_NOTA_CH                float64\n",
       "NU_NOTA_LC                float64\n",
       "TP_LINGUA                   int64\n",
       "TP_STATUS_REDACAO         float64\n",
       "NU_NOTA_COMP1             float64\n",
       "NU_NOTA_COMP2             float64\n",
       "NU_NOTA_COMP3             float64\n",
       "NU_NOTA_COMP4             float64\n",
       "NU_NOTA_COMP5             float64\n",
       "NU_NOTA_REDACAO           float64\n",
       "Q001                       object\n",
       "Q002                       object\n",
       "Q006                       object\n",
       "Q024                       object\n",
       "Q025                       object\n",
       "Q026                       object\n",
       "Q027                       object\n",
       "Q047                       object\n",
       "dtype: object"
      ]
     },
     "execution_count": 8,
     "metadata": {},
     "output_type": "execute_result"
    }
   ],
   "source": [
    "test.dtypes"
   ]
  },
  {
   "cell_type": "markdown",
   "metadata": {},
   "source": [
    "**Visualização gráfica dos dados**"
   ]
  },
  {
   "cell_type": "code",
   "execution_count": 11,
   "metadata": {},
   "outputs": [
    {
     "data": {
      "text/plain": [
       "<matplotlib.axes._subplots.AxesSubplot at 0x2344a288220>"
      ]
     },
     "execution_count": 11,
     "metadata": {},
     "output_type": "execute_result"
    },
    {
     "data": {
      "image/png": "[encoded data removed]",
      "text/plain": [
       "<Figure size 432x288 with 1 Axes>"
      ]
     },
     "metadata": {
      "needs_background": "light"
     },
     "output_type": "display_data"
    }
   ],
   "source": [
    "sns.distplot(train['NU_NOTA_MT'])"
   ]
  },
  {
   "cell_type": "code",
   "execution_count": 12,
   "metadata": {},
   "outputs": [
    {
     "data": {
      "image/png": "[encoded data removed]",
      "text/plain": [
       "<Figure size 432x288 with 1 Axes>"
      ]
     },
     "metadata": {
      "needs_background": "light"
     },
     "output_type": "display_data"
    }
   ],
   "source": [
    "sns.boxplot(data=train[['NU_NOTA_MT','NU_NOTA_CN','NU_NOTA_CH','NU_NOTA_LC','NU_NOTA_REDACAO']])\n",
    "plt.xticks(rotation=30, ha='right')"
   ]
  },
  {
   "cell_type": "code",
   "execution_count": 13,
   "metadata": {},
   "outputs": [
    {
     "data": {
      "text/plain": [
       "(array([0, 1, 2, 3, 4]), <a list of 5 Text major ticklabel objects>)"
      ]
     },
     "execution_count": 13,
     "metadata": {},
     "output_type": "execute_result"
    },
    {
     "data": {
      "image/png": "[encoded data removed]",
      "text/plain": [
       "<Figure size 432x288 with 1 Axes>"
      ]
     },
     "metadata": {
      "needs_background": "light"
     },
     "output_type": "display_data"
    }
   ],
   "source": [
    "sns.boxplot(data=train[['NU_NOTA_COMP1','NU_NOTA_COMP2','NU_NOTA_COMP3','NU_NOTA_COMP4','NU_NOTA_COMP5']])\n",
    "plt.xticks(rotation=30, ha='right')"
   ]
  },
  {
   "cell_type": "code",
   "execution_count": 19,
   "metadata": {},
   "outputs": [
    {
     "data": {
      "image/png": "[encoded data removed]",
      "text/plain": [
       "<Figure size 720x288 with 1 Axes>"
      ]
     },
     "metadata": {
      "needs_background": "light"
     },
     "output_type": "display_data"
    }
   ],
   "source": [
    "plt.figure(figsize=(10,4))\n",
    "sns.distplot(train['NU_NOTA_CN'].dropna(), hist=False, color='gray')\n",
    "sns.distplot(train['NU_NOTA_CH'].dropna(), hist=False, color='green')\n",
    "sns.distplot(train['NU_NOTA_LC'].dropna(), hist=False, color='black')\n",
    "sns.distplot(train['NU_NOTA_MT'].dropna(), hist=False, color='navy')\n",
    "sns.distplot(train['NU_NOTA_REDACAO'].dropna(), hist=False, color='red')\n",
    "plt.xlabel(\"\")\n",
    "plt.show()"
   ]
  },
  {
   "cell_type": "code",
   "execution_count": 15,
   "metadata": {},
   "outputs": [
    {
     "data": {
      "text/plain": [
       "<matplotlib.axes._subplots.AxesSubplot at 0x2344c485340>"
      ]
     },
     "execution_count": 15,
     "metadata": {},
     "output_type": "execute_result"
    },
    {
     "data": {
      "image/png": "[encoded data removed]",
      "text/plain": [
       "<Figure size 432x288 with 1 Axes>"
      ]
     },
     "metadata": {
      "needs_background": "light"
     },
     "output_type": "display_data"
    }
   ],
   "source": [
    "sns.distplot(train['NU_IDADE'])"
   ]
  },
  {
   "cell_type": "code",
   "execution_count": 20,
   "metadata": {},
   "outputs": [],
   "source": [
    "train_copy = train.copy()"
   ]
  },
  {
   "cell_type": "markdown",
   "metadata": {},
   "source": [
    "**Seleção de variáveis**"
   ]
  },
  {
   "cell_type": "code",
   "execution_count": 22,
   "metadata": {},
   "outputs": [],
   "source": [
    "import warnings\n",
    "warnings.filterwarnings(\"ignore\")"
   ]
  },
  {
   "cell_type": "code",
   "execution_count": 23,
   "metadata": {},
   "outputs": [],
   "source": [
    "var = train_copy[['NU_NOTA_MT','NU_NOTA_CN','NU_NOTA_CH','NU_NOTA_LC','NU_NOTA_REDACAO']]\n",
    "var.fillna(-1, inplace=True)"
   ]
  },
  {
   "cell_type": "code",
   "execution_count": 26,
   "metadata": {},
   "outputs": [],
   "source": [
    "y = var['NU_NOTA_MT']\n",
    "X = var.drop('NU_NOTA_MT', axis=1)\n",
    "\n",
    "X_train, X_val, y_train, y_val = train_test_split(X, y, test_size=0.3, random_state=42)"
   ]
  },
  {
   "cell_type": "code",
   "execution_count": 27,
   "metadata": {},
   "outputs": [
    {
     "data": {
      "text/plain": [
       "<matplotlib.axes._subplots.AxesSubplot at 0x2344d5966d0>"
      ]
     },
     "execution_count": 27,
     "metadata": {},
     "output_type": "execute_result"
    },
    {
     "data": {
      "image/png": "[encoded data removed]",
      "text/plain": [
       "<Figure size 432x288 with 1 Axes>"
      ]
     },
     "metadata": {
      "needs_background": "light"
     },
     "output_type": "display_data"
    }
   ],
   "source": [
    "sns.distplot(np.array(X.dropna()).reshape(-1,1))"
   ]
  },
  {
   "cell_type": "code",
   "execution_count": 30,
   "metadata": {},
   "outputs": [
    {
     "data": {
      "text/plain": [
       "<matplotlib.axes._subplots.AxesSubplot at 0x2344c3caa30>"
      ]
     },
     "execution_count": 30,
     "metadata": {},
     "output_type": "execute_result"
    },
    {
     "data": {
      "image/png": "[encoded data removed]",
      "text/plain": [
       "<Figure size 432x288 with 1 Axes>"
      ]
     },
     "metadata": {
      "needs_background": "light"
     },
     "output_type": "display_data"
    }
   ],
   "source": [
    "sns.distplot(np.array(y.dropna()).reshape(-1,1))"
   ]
  },
  {
   "cell_type": "code",
   "execution_count": 31,
   "metadata": {},
   "outputs": [],
   "source": [
    "X_test = test[X.columns]\n",
    "X_test.fillna(-1, inplace=True)"
   ]
  },
  {
   "cell_type": "markdown",
   "metadata": {},
   "source": [
    "**Treinando o modelo**"
   ]
  },
  {
   "cell_type": "code",
   "execution_count": 41,
   "metadata": {},
   "outputs": [
    {
     "name": "stdout",
     "output_type": "stream",
     "text": [
      "42.695653938110304 63.372019217177694 4016.0128196623386\n"
     ]
    }
   ],
   "source": [
    "random_forest = RandomForestRegressor(criterion='mse', max_depth=8, n_jobs=-1, random_state=42)\n",
    "random_forest.fit(X_train, y_train)\n",
    "\n",
    "y_pred = random_forest.predict(X_val)\n",
    "\n",
    "mae = metrics.mean_absolute_error(y_val, y_pred)\n",
    "rmse = np.sqrt(metrics.mean_squared_error(y_val, y_pred))\n",
    "mse = mean_squared_error(y_val, y_pred)\n",
    "\n",
    "print(mae,rmse,mse)"
   ]
  },
  {
   "cell_type": "code",
   "execution_count": 34,
   "metadata": {},
   "outputs": [],
   "source": [
    "y_pred = random_forest.predict(X_test)"
   ]
  },
  {
   "cell_type": "code",
   "execution_count": 35,
   "metadata": {},
   "outputs": [
    {
     "data": {
      "text/html": [
       "<div>\n",
       "<style scoped>\n",
       "    .dataframe tbody tr th:only-of-type {\n",
       "        vertical-align: middle;\n",
       "    }\n",
       "\n",
       "    .dataframe tbody tr th {\n",
       "        vertical-align: top;\n",
       "    }\n",
       "\n",
       "    .dataframe thead th {\n",
       "        text-align: right;\n",
       "    }\n",
       "</style>\n",
       "<table border=\"1\" class=\"dataframe\">\n",
       "  <thead>\n",
       "    <tr style=\"text-align: right;\">\n",
       "      <th></th>\n",
       "      <th>NU_INSCRICAO</th>\n",
       "      <th>TP_PRESENCA_CN</th>\n",
       "      <th>NU_NOTA_MT</th>\n",
       "    </tr>\n",
       "  </thead>\n",
       "  <tbody>\n",
       "    <tr>\n",
       "      <th>0</th>\n",
       "      <td>73ff9fcc02f0a99919906c942c2e1a1042cdcf98</td>\n",
       "      <td>1</td>\n",
       "      <td>430.986341</td>\n",
       "    </tr>\n",
       "    <tr>\n",
       "      <th>1</th>\n",
       "      <td>71a95f9f1b91a82c65ad94abbdf9f54e6066f968</td>\n",
       "      <td>1</td>\n",
       "      <td>446.782447</td>\n",
       "    </tr>\n",
       "    <tr>\n",
       "      <th>2</th>\n",
       "      <td>b38a03232f43b11c9d0788abaf060f7366053b6d</td>\n",
       "      <td>1</td>\n",
       "      <td>594.424693</td>\n",
       "    </tr>\n",
       "    <tr>\n",
       "      <th>3</th>\n",
       "      <td>70b682d9a3636be23f6120fa9d6b164eb3c6002d</td>\n",
       "      <td>0</td>\n",
       "      <td>-1.000000</td>\n",
       "    </tr>\n",
       "    <tr>\n",
       "      <th>4</th>\n",
       "      <td>715494628a50142ce8cb17191cfe6d0f3cae0934</td>\n",
       "      <td>1</td>\n",
       "      <td>536.476658</td>\n",
       "    </tr>\n",
       "  </tbody>\n",
       "</table>\n",
       "</div>"
      ],
      "text/plain": [
       "                               NU_INSCRICAO  TP_PRESENCA_CN  NU_NOTA_MT\n",
       "0  73ff9fcc02f0a99919906c942c2e1a1042cdcf98               1  430.986341\n",
       "1  71a95f9f1b91a82c65ad94abbdf9f54e6066f968               1  446.782447\n",
       "2  b38a03232f43b11c9d0788abaf060f7366053b6d               1  594.424693\n",
       "3  70b682d9a3636be23f6120fa9d6b164eb3c6002d               0   -1.000000\n",
       "4  715494628a50142ce8cb17191cfe6d0f3cae0934               1  536.476658"
      ]
     },
     "execution_count": 35,
     "metadata": {},
     "output_type": "execute_result"
    }
   ],
   "source": [
    "answer = pd.DataFrame({'NU_INSCRICAO':test.NU_INSCRICAO,\n",
    "                        'TP_PRESENCA_CN':test.TP_PRESENCA_CN,\n",
    "                        'NU_NOTA_MT':y_pred})\n",
    "answer.head()"
   ]
  },
  {
   "cell_type": "code",
   "execution_count": 36,
   "metadata": {},
   "outputs": [
    {
     "data": {
      "text/html": [
       "<div>\n",
       "<style scoped>\n",
       "    .dataframe tbody tr th:only-of-type {\n",
       "        vertical-align: middle;\n",
       "    }\n",
       "\n",
       "    .dataframe tbody tr th {\n",
       "        vertical-align: top;\n",
       "    }\n",
       "\n",
       "    .dataframe thead th {\n",
       "        text-align: right;\n",
       "    }\n",
       "</style>\n",
       "<table border=\"1\" class=\"dataframe\">\n",
       "  <thead>\n",
       "    <tr style=\"text-align: right;\">\n",
       "      <th></th>\n",
       "      <th>NU_INSCRICAO</th>\n",
       "      <th>NU_NOTA_MT</th>\n",
       "    </tr>\n",
       "  </thead>\n",
       "  <tbody>\n",
       "    <tr>\n",
       "      <th>0</th>\n",
       "      <td>73ff9fcc02f0a99919906c942c2e1a1042cdcf98</td>\n",
       "      <td>430.986341</td>\n",
       "    </tr>\n",
       "    <tr>\n",
       "      <th>1</th>\n",
       "      <td>71a95f9f1b91a82c65ad94abbdf9f54e6066f968</td>\n",
       "      <td>446.782447</td>\n",
       "    </tr>\n",
       "    <tr>\n",
       "      <th>2</th>\n",
       "      <td>b38a03232f43b11c9d0788abaf060f7366053b6d</td>\n",
       "      <td>594.424693</td>\n",
       "    </tr>\n",
       "    <tr>\n",
       "      <th>3</th>\n",
       "      <td>70b682d9a3636be23f6120fa9d6b164eb3c6002d</td>\n",
       "      <td>-1.000000</td>\n",
       "    </tr>\n",
       "    <tr>\n",
       "      <th>4</th>\n",
       "      <td>715494628a50142ce8cb17191cfe6d0f3cae0934</td>\n",
       "      <td>536.476658</td>\n",
       "    </tr>\n",
       "  </tbody>\n",
       "</table>\n",
       "</div>"
      ],
      "text/plain": [
       "                               NU_INSCRICAO  NU_NOTA_MT\n",
       "0  73ff9fcc02f0a99919906c942c2e1a1042cdcf98  430.986341\n",
       "1  71a95f9f1b91a82c65ad94abbdf9f54e6066f968  446.782447\n",
       "2  b38a03232f43b11c9d0788abaf060f7366053b6d  594.424693\n",
       "3  70b682d9a3636be23f6120fa9d6b164eb3c6002d   -1.000000\n",
       "4  715494628a50142ce8cb17191cfe6d0f3cae0934  536.476658"
      ]
     },
     "execution_count": 36,
     "metadata": {},
     "output_type": "execute_result"
    }
   ],
   "source": [
    "answer.drop('TP_PRESENCA_CN', axis=1, inplace=True)\n",
    "answer.head()"
   ]
  },
  {
   "cell_type": "code",
   "execution_count": 37,
   "metadata": {},
   "outputs": [],
   "source": [
    "answer.to_csv('answer.csv', index=False)"
   ]
  }
 ],
 "metadata": {
  "kernelspec": {
   "display_name": "Python 3",
   "language": "python",
   "name": "python3"
  },
  "language_info": {
   "codemirror_mode": {
    "name": "ipython",
    "version": 3
   },
   "file_extension": ".py",
   "mimetype": "text/x-python",
   "name": "python",
   "nbconvert_exporter": "python",
   "pygments_lexer": "ipython3",
   "version": "3.8.2"
  },
  "toc": {
   "base_numbering": 1,
   "nav_menu": {},
   "number_sections": true,
   "sideBar": true,
   "skip_h1_title": false,
   "title_cell": "Table of Contents",
   "title_sidebar": "Contents",
   "toc_cell": false,
   "toc_position": {},
   "toc_section_display": true,
   "toc_window_display": false
  }
 },
 "nbformat": 4,
 "nbformat_minor": 4
}
